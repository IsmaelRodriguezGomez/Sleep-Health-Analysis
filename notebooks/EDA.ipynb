{
 "cells": [
  {
   "cell_type": "code",
   "execution_count": null,
   "metadata": {
    "vscode": {
     "languageId": "plaintext"
    }
   },
   "outputs": [],
   "source": [
    "import pandas as pd\n",
    "import plotly.express as px\n",
    "\n",
    "# Carga el dataset\n",
    "df = pd.read_csv(\"../sleep_health_lifestyle_dataset.csv\")  # Ajusta la ruta a donde esté tu CSV\n",
    "\n",
    "# Vistazo rápido\n",
    "df.head()"
   ]
  },
  {
   "cell_type": "code",
   "execution_count": null,
   "metadata": {
    "vscode": {
     "languageId": "plaintext"
    }
   },
   "outputs": [],
   "source": [
    "import streamlit as st\n",
    "import pandas as pd\n",
    "\n",
    "# Cargar el dataset\n",
    "df = pd.read_csv(\"sleep_health_lifestyle_dataset.csv\")\n",
    "\n",
    "# Mostrar las columnas del dataset\n",
    "st.write(\"### Columnas del dataset\")\n",
    "st.write(df.columns)\n",
    "\n",
    "# Mostrar las primeras 5 filas del dataset para revisar los datos\n",
    "st.write(\"### Primeras 5 filas del dataset\")\n",
    "st.write(df.head())"
   ]
  }
 ],
 "metadata": {
  "language_info": {
   "name": "python"
  }
 },
 "nbformat": 4,
 "nbformat_minor": 2
}
